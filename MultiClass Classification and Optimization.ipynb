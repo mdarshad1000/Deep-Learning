{
 "cells": [
  {
   "cell_type": "markdown",
   "id": "fef87589",
   "metadata": {},
   "source": [
    "# Multiclass Classification and Implementation of Softmax Activation "
   ]
  },
  {
   "cell_type": "markdown",
   "id": "df82cbfb",
   "metadata": {},
   "source": [
    "### Activation Functions\n",
    "1. <b>Sigmoid</b> - use for logistic\n",
    "2. <b>Rectified linear unit (ReLU)</b> - most commonly used\n",
    "3. <b>Linear</b> - no activation function\n",
    "4. <b>Softmax</b> - for multiclass classification"
   ]
  },
  {
   "cell_type": "markdown",
   "id": "ccaa8e8b",
   "metadata": {},
   "source": [
    "<b>1. Specify architecture of the Neuaral Network</b>"
   ]
  },
  {
   "cell_type": "code",
   "execution_count": 10,
   "id": "362d47bc",
   "metadata": {},
   "outputs": [],
   "source": [
    "from tensorflow.keras import Sequential\n",
    "from tensorflow.keras.layers import Dense\n",
    "\n",
    "model = Sequential([\n",
    "    Dense(units=25, activation='relu'),\n",
    "    Dense(units=15, activation='relu'),\n",
    "    Dense(units=10, activation='softmax')\n",
    "    \n",
    "])"
   ]
  },
  {
   "cell_type": "markdown",
   "id": "47c2e857",
   "metadata": {},
   "source": [
    "<b>2. Compile the model, specify the lost and cost</b>"
   ]
  },
  {
   "cell_type": "code",
   "execution_count": 12,
   "id": "7e39f286",
   "metadata": {},
   "outputs": [],
   "source": [
    "from tensorflow.keras.losses import SparseCategoricalCrossentropy\n",
    "\n",
    "model.compile(loss=SparseCategoricalCrossentropy())"
   ]
  },
  {
   "cell_type": "markdown",
   "id": "121eb4f2",
   "metadata": {},
   "source": [
    "<b>3. Train on data to minimize cost</b>"
   ]
  },
  {
   "cell_type": "code",
   "execution_count": null,
   "id": "442ff46f",
   "metadata": {},
   "outputs": [],
   "source": [
    "model.fit(x, y, epochs=100)"
   ]
  },
  {
   "cell_type": "markdown",
   "id": "1a66aa02",
   "metadata": {},
   "source": [
    "### Better implementation of Softmax to reduce numerical error is:"
   ]
  },
  {
   "cell_type": "code",
   "execution_count": 13,
   "id": "59fa0fff",
   "metadata": {},
   "outputs": [],
   "source": [
    "from tensorflow.keras import Sequential\n",
    "from tensorflow.keras.layers import Dense\n",
    "\n",
    "model = Sequential([\n",
    "    Dense(units=25, activation='relu'),\n",
    "    Dense(units=15, activation='relu'),\n",
    "    Dense(units=10, activation='linear')\n",
    "    \n",
    "])"
   ]
  },
  {
   "cell_type": "code",
   "execution_count": 14,
   "id": "692d3032",
   "metadata": {},
   "outputs": [],
   "source": [
    "from tensorflow.keras.losses import SparseCategoricalCrossentropy\n",
    "\n",
    "model.compile(loss=SparseCategoricalCrossentropy(from_logits=True))"
   ]
  },
  {
   "cell_type": "code",
   "execution_count": null,
   "id": "e91575b2",
   "metadata": {},
   "outputs": [],
   "source": [
    "model.fit(x, y, epochs=100)"
   ]
  },
  {
   "cell_type": "markdown",
   "id": "32c7751d",
   "metadata": {},
   "source": [
    "### For advanced optimization use ADAMS Algorithm\n",
    "Adams Algo controls the learning rate and therefore increases or decreases it on the basis of the how the Gradient Descent is proceeding"
   ]
  },
  {
   "cell_type": "code",
   "execution_count": 21,
   "id": "126f2a18",
   "metadata": {},
   "outputs": [],
   "source": [
    "from tensorflow.keras.losses import SparseCategoricalCrossentropy\n",
    "from tensorflow.keras.optimizers import Adam\n",
    "\n",
    "model.compile(optimizer=Adam(learning_rate=1e-3),\n",
    "              loss=SparseCategoricalCrossentropy(from_logits=True))"
   ]
  },
  {
   "cell_type": "code",
   "execution_count": null,
   "id": "809871e8",
   "metadata": {},
   "outputs": [],
   "source": []
  },
  {
   "cell_type": "code",
   "execution_count": null,
   "id": "688ab85d",
   "metadata": {},
   "outputs": [],
   "source": []
  }
 ],
 "metadata": {
  "kernelspec": {
   "display_name": "Python 3 (ipykernel)",
   "language": "python",
   "name": "python3"
  },
  "language_info": {
   "codemirror_mode": {
    "name": "ipython",
    "version": 3
   },
   "file_extension": ".py",
   "mimetype": "text/x-python",
   "name": "python",
   "nbconvert_exporter": "python",
   "pygments_lexer": "ipython3",
   "version": "3.10.4"
  }
 },
 "nbformat": 4,
 "nbformat_minor": 5
}
