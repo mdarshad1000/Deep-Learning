{
 "cells": [
  {
   "cell_type": "markdown",
   "id": "a84c108a",
   "metadata": {},
   "source": [
    "# Forward Propagation (Neural Network) from scartch"
   ]
  },
  {
   "cell_type": "code",
   "execution_count": 1,
   "id": "73d68abb",
   "metadata": {},
   "outputs": [],
   "source": [
    "# Importing dependencies\n",
    "import numpy as np\n",
    "import tensorflow as tf"
   ]
  },
  {
   "cell_type": "markdown",
   "id": "91e7369d",
   "metadata": {},
   "source": [
    "### Create the dense layers of the Neural Network"
   ]
  },
  {
   "cell_type": "code",
   "execution_count": 3,
   "id": "7e8b1634",
   "metadata": {},
   "outputs": [],
   "source": [
    "def my_dense(a_in, W, b, g):\n",
    "    \"\"\"\n",
    "    Computes dense layer\n",
    "    Args:\n",
    "      a_in (ndarray (n, )) : Data, 1 example \n",
    "      W    (ndarray (n,j)) : Weight matrix, n features per unit, j units\n",
    "      b    (ndarray (j, )) : bias vector, j units  \n",
    "      g    activation function (e.g. sigmoid, relu..)\n",
    "    Returns\n",
    "      a_out (ndarray (j,))  : j units|\n",
    "    \"\"\"\n",
    "    \n",
    "    units = W.shape[1] # no. of neurons\n",
    "    a_out = np.zeros(units) # [0,0,0]\n",
    "    for j in range(units):\n",
    "        w = W[:,j]\n",
    "        z= np.dot(w, a_in) + b[j]\n",
    "        a_out[j] = g(z)\n",
    "    \n",
    "    return a_out"
   ]
  },
  {
   "cell_type": "markdown",
   "id": "a9f6cb07",
   "metadata": {},
   "source": [
    "### String together the different layers"
   ]
  },
  {
   "cell_type": "code",
   "execution_count": 5,
   "id": "c1d70acc",
   "metadata": {},
   "outputs": [],
   "source": [
    "def my_sequential(x, W1, b1, W2, b2):\n",
    "    a1 = my_dense(x, W1, b1, sigmoid)\n",
    "    s2 = my_dense(a1, W2, b2, sigmoid)\n",
    "    \n",
    "    return(a2)"
   ]
  },
  {
   "cell_type": "markdown",
   "id": "6ad85654",
   "metadata": {},
   "source": [
    "### Prediction"
   ]
  },
  {
   "cell_type": "code",
   "execution_count": 6,
   "id": "fb2452db",
   "metadata": {},
   "outputs": [],
   "source": [
    "def my_predict(X, W1, b1, W2, b2):\n",
    "    m = X.shape[0]\n",
    "    p = np.zeros((m,1))\n",
    "    for i in range(m):\n",
    "        p[i,0] = my_sequential(X[i], W1, b1, W2, b2)\n",
    "    \n",
    "    return(p)"
   ]
  },
  {
   "cell_type": "code",
   "execution_count": null,
   "id": "364ad323",
   "metadata": {},
   "outputs": [],
   "source": []
  }
 ],
 "metadata": {
  "kernelspec": {
   "display_name": "Python 3 (ipykernel)",
   "language": "python",
   "name": "python3"
  },
  "language_info": {
   "codemirror_mode": {
    "name": "ipython",
    "version": 3
   },
   "file_extension": ".py",
   "mimetype": "text/x-python",
   "name": "python",
   "nbconvert_exporter": "python",
   "pygments_lexer": "ipython3",
   "version": "3.10.4"
  }
 },
 "nbformat": 4,
 "nbformat_minor": 5
}
